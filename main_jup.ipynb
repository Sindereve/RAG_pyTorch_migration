{
 "cells": [
  {
   "cell_type": "markdown",
   "id": "d40530bd",
   "metadata": {},
   "source": [
    "# Тема 'RAG для миграции pyTorch с v1.0.0 на v2.7.0' "
   ]
  },
  {
   "cell_type": "markdown",
   "id": "c203cc94",
   "metadata": {},
   "source": [
    "## Настройка для использования"
   ]
  },
  {
   "cell_type": "code",
   "execution_count": null,
   "id": "afe282da",
   "metadata": {},
   "outputs": [
    {
     "name": "stderr",
     "output_type": "stream",
     "text": [
      "2025-07-27 13:25:18,630 | INFO     | __main__ | Модель intfloat/e5-large загружена\n",
      "2025-07-27 13:25:22,191 | INFO     | __main__ | БД подключена\n"
     ]
    }
   ],
   "source": [
    "from logs.logging_setup import configure_logging\n",
    "configure_logging()\n",
    "import logging\n",
    "LOGGER = logging.getLogger(__name__)\n",
    "\n",
    "from validator import Validator\n",
    "from retrival import Retreiver, get_embedding_core\n",
    "from llm import get_llm_response, clean_llm_code\n",
    "import os\n",
    "import pandas as pd\n",
    "\n",
    "LLM_NAME = \"tngtech/deepseek-r1t2-chimera\"\n",
    "\n",
    "# =========  Загрузка модели =================\n",
    "model, tokenizer = get_embedding_core(\"intfloat/e5-large\")\n",
    "LOGGER.info(f\"Модель {model.model_name} загружена\")\n",
    "\n",
    "# =========  Подключение к БД =================\n",
    "rtr = Retreiver(model, model.model_name)\n",
    "LOGGER.info(f\"БД подключена\")\n",
    "\n",
    "# =========  Инициализация валидатора =================\n",
    "val = Validator()\n",
    "\n",
    "def RAG_get_new_code(code, model_name):\n",
    "    '''\n",
    "        Получаем новый код после прогана в RAG\n",
    "    '''\n",
    "    prompt = rtr.build_prompt(code)\n",
    "    LOGGER.info(f\"Запрос в БД успешно выполнен\")\n",
    "\n",
    "    result = get_llm_response(prompt, model_name=model_name)\n",
    "    LOGGER.info(f\"Запрос в LLM успешно выполнен\")\n",
    "\n",
    "    result_code, explanation = clean_llm_code(result)\n",
    "    LOGGER.info(f\"Получен код из ответа LLM\")\n",
    "\n",
    "    return result_code, explanation\n",
    "\n",
    "\n",
    "\n"
   ]
  },
  {
   "cell_type": "markdown",
   "id": "be239e5d",
   "metadata": {},
   "source": [
    "## **Что такое RAG и почему он нужен бизнесу**"
   ]
  },
  {
   "cell_type": "markdown",
   "id": "c4c11caa",
   "metadata": {},
   "source": [
    "![Репозитории в gitHub](data\\image\\more_rag_github.png)"
   ]
  },
  {
   "cell_type": "markdown",
   "id": "d8201322",
   "metadata": {},
   "source": [
    "RAG (Retrieval Augmented Generation) — это метод работы с большими языковыми моделями, когда пользователь пишет свой вопросы, а мы программно к этому вопросу «подмешиваете» дополнительную информацию из каких‑то внешних источников и подаём все целиком на вход языковой модели. Другими словами мы говорим, то о чём наша модель может не знать или \"забыть\" это учесть."
   ]
  },
  {
   "cell_type": "markdown",
   "id": "e4d196f1",
   "metadata": {},
   "source": [
    "**Давайте разберём на примере:**\n",
    "\n",
    "*Пользователь*: Какой должен быть шрифт у кода при написании дипломной работы в ОГУ? \n",
    "\n",
    "LLM это не знает с вероятностью почти в 100% и тут появляется несколько исходов у LLM.\n",
    "1) Сказать честно, что она не знает\n",
    "2) Придумать свой вариант\n",
    "3) Найти из интернета, но не факт, что она обратится к нужному источнику для поиска информации.\n",
    "\n",
    "И тут на помощь приходит RAG, он дополняет вопрос пользователя. И поможет LLM ответить правильно."
   ]
  },
  {
   "cell_type": "markdown",
   "id": "a4b2d7ba",
   "metadata": {},
   "source": [
    "![Всё хорошо](data\\image\\all_good.jpg)"
   ]
  },
  {
   "cell_type": "markdown",
   "id": "a947532e",
   "metadata": {},
   "source": [
    "## Что он может(на данный момент)?"
   ]
  },
  {
   "cell_type": "code",
   "execution_count": 14,
   "id": "dfcd93f9",
   "metadata": {},
   "outputs": [],
   "source": [
    "name = \"torch._six\"\n",
    "old_code = \"\"\"\n",
    "torch.distributed.init_process_grou\": \"import torch.distributed as dist; dist.init_process_group(backend='gloo', init_method='tcp://127.0.0.1:12345', world_size=1, rank=0); print('OK')\n",
    "\"\"\""
   ]
  },
  {
   "cell_type": "code",
   "execution_count": 15,
   "id": "25ba09cd",
   "metadata": {},
   "outputs": [
    {
     "name": "stderr",
     "output_type": "stream",
     "text": [
      "2025-07-26 16:39:06,515 | INFO     | __main__ | Запрос в БД успешно выполнен\n",
      "2025-07-26 16:39:50,045 | INFO     | __main__ | Запрос в LLM успешно выполнен\n",
      "2025-07-26 16:39:50,046 | INFO     | __main__ | Получен код из ответа LLM\n"
     ]
    },
    {
     "name": "stdout",
     "output_type": "stream",
     "text": [
      "==============================\n",
      "Old code:\n",
      " \n",
      "torch.distributed.init_process_grou\": \"import torch.distributed as dist; dist.init_process_group(backend='gloo', init_method='tcp://127.0.0.1:12345', world_size=1, rank=0); print('OK')\n",
      "\n",
      "==============================\n",
      "New code:\n",
      " import torch.distributed as dist\n",
      "dist.init_process_group(\n",
      "    backend='gloo',\n",
      "    init_method='tcp://127.0.0.1:12345',\n",
      "    world_size=1,\n",
      "    rank=0\n",
      ")\n",
      "print('OK')\n",
      "==============================\n"
     ]
    },
    {
     "data": {
      "text/html": [
       "<div>\n",
       "<style scoped>\n",
       "    .dataframe tbody tr th:only-of-type {\n",
       "        vertical-align: middle;\n",
       "    }\n",
       "\n",
       "    .dataframe tbody tr th {\n",
       "        vertical-align: top;\n",
       "    }\n",
       "\n",
       "    .dataframe thead th {\n",
       "        text-align: right;\n",
       "    }\n",
       "</style>\n",
       "<table border=\"1\" class=\"dataframe\">\n",
       "  <thead>\n",
       "    <tr style=\"text-align: right;\">\n",
       "      <th></th>\n",
       "      <th>API</th>\n",
       "      <th>Работает в 1.0.0</th>\n",
       "      <th>Out 1.0.0</th>\n",
       "      <th>Err 1.0.0</th>\n",
       "      <th>Работает в 2.7.0</th>\n",
       "      <th>Out 2.7.0</th>\n",
       "      <th>Err 2.7.0</th>\n",
       "      <th>Работает в 2.7.0 (после RAG)</th>\n",
       "      <th>RAG Out 2.7.0</th>\n",
       "      <th>RAG Err 2.7.0</th>\n",
       "    </tr>\n",
       "  </thead>\n",
       "  <tbody>\n",
       "    <tr>\n",
       "      <th>Test</th>\n",
       "      <td>torch._six</td>\n",
       "      <td>False</td>\n",
       "      <td></td>\n",
       "      <td>File \"C:\\Users\\sinde\\AppData\\Local\\Temp\\tmpya1...</td>\n",
       "      <td>False</td>\n",
       "      <td></td>\n",
       "      <td>File \"C:\\Users\\sinde\\AppData\\Local\\Temp\\tmpetn...</td>\n",
       "      <td>False</td>\n",
       "      <td>OK</td>\n",
       "      <td>[W726 16:40:16.000000000 socket.cpp:755] [c10d...</td>\n",
       "    </tr>\n",
       "  </tbody>\n",
       "</table>\n",
       "</div>"
      ],
      "text/plain": [
       "             API  Работает в 1.0.0 Out 1.0.0  \\\n",
       "Test  torch._six             False             \n",
       "\n",
       "                                              Err 1.0.0  Работает в 2.7.0  \\\n",
       "Test  File \"C:\\Users\\sinde\\AppData\\Local\\Temp\\tmpya1...             False   \n",
       "\n",
       "     Out 2.7.0                                          Err 2.7.0  \\\n",
       "Test            File \"C:\\Users\\sinde\\AppData\\Local\\Temp\\tmpetn...   \n",
       "\n",
       "      Работает в 2.7.0 (после RAG) RAG Out 2.7.0  \\\n",
       "Test                         False            OK   \n",
       "\n",
       "                                          RAG Err 2.7.0  \n",
       "Test  [W726 16:40:16.000000000 socket.cpp:755] [c10d...  "
      ]
     },
     "execution_count": 15,
     "metadata": {},
     "output_type": "execute_result"
    }
   ],
   "source": [
    "new_code = RAG_get_new_code(old_code, LLM_NAME)\n",
    "dict_info, dict_code = val.run_test_old_and_new_code(name, old_code, new_code)\n",
    "\n",
    "print('='*30)\n",
    "print('Old code:\\n',dict_code['old_code'])\n",
    "print('='*30)\n",
    "print('New code:\\n',dict_code['new_code'])\n",
    "print('='*30)\n",
    "\n",
    "pd.DataFrame(dict_info, index=['Test'])"
   ]
  },
  {
   "cell_type": "markdown",
   "id": "3ca20b61",
   "metadata": {},
   "source": [
    "## Обзор архитектуры"
   ]
  },
  {
   "cell_type": "markdown",
   "id": "1904dacc",
   "metadata": {},
   "source": [
    "### **Откуда мы брали данные и почему именно эти данные?**"
   ]
  },
  {
   "cell_type": "markdown",
   "id": "77a98d8a",
   "metadata": {},
   "source": [
    "Прежде чем приступать к архитектуре, давайте так же затронем не мало важную тему.\n",
    "\n",
    "СБОР ДАННЫХ!!\n",
    "\n",
    "\n",
    "Да, сбор данных это одна из важнейших ступеней в построении хорошей RAG системы. А всё потому что вы можете сделать ЛУЧШУЮ архитектуру, ЛУЧШИЕ методы поиска информации, ЛУЧШАЯ LLM, ЛУЧШИЙ промт, ЛУЧШИЙ UI... Ну ладно UI это конечно лишние.\n"
   ]
  },
  {
   "cell_type": "markdown",
   "id": "6d3a9fda",
   "metadata": {},
   "source": [
    "![image.png](data\\image\\git_pyTorch.png)"
   ]
  },
  {
   "cell_type": "markdown",
   "id": "53b66892",
   "metadata": {},
   "source": [
    "Все данные для создания контекста мы взяли из рилизов опубликованных на [gitHub](https://github.com/pytorch/pytorch/releases)\n",
    "\n",
    "\n",
    "Они идеально подходят для нашей задачи, так как в рилизах прописываются изменения api, а так же есть примеры написания кода, а так же прописывается номер версии. \n",
    "\n",
    "Идеи по улучшению: \n",
    "* Можно добавить документацию по каждой из версий. Это даст больший контекст.\n",
    "* Можно добавить данные из stackOverflou, но их нужно размечать(трудозатратно)\n",
    "\n"
   ]
  },
  {
   "cell_type": "markdown",
   "id": "0d5f9330",
   "metadata": {},
   "source": [
    "### **Основные компоненты RAG** + (стэк технологий)"
   ]
  },
  {
   "cell_type": "markdown",
   "id": "2f48fbf9",
   "metadata": {},
   "source": [
    "Давайте рассмотрим процесс создания RAG целиком, а потом начнём разбирать каждый элемент в отдельности"
   ]
  },
  {
   "cell_type": "markdown",
   "id": "93d0f01a",
   "metadata": {},
   "source": [
    "![RAG](data\\image\\rag_scheme.png)"
   ]
  },
  {
   "cell_type": "markdown",
   "id": "ec889bdd",
   "metadata": {},
   "source": [
    "Разберём препроцессинг "
   ]
  },
  {
   "cell_type": "markdown",
   "id": "a1dc6b8a",
   "metadata": {},
   "source": [
    "![Pre-processing](data\\image\\rag_scheme_pre_processing.png)"
   ]
  },
  {
   "cell_type": "markdown",
   "id": "8622e06f",
   "metadata": {},
   "source": [
    "Подготовка данных:\n",
    "\n",
    "**User Documents:** В нашем случае это рилизы из gitHub\n",
    "\n",
    "**Далее, chunking:** Я выбрал RecursiveCharacterTextSplitter из LangChain, потому что он предлагает гибкий и семантически осмысленный подход к разбиению текста.python.langchain.com Этот сплиттер рекурсивно делит текст по иерархии разделителей (например, сначала по абзацам, затем по предложениям, словам или символам)."
   ]
  },
  {
   "cell_type": "markdown",
   "id": "7ee601a1",
   "metadata": {},
   "source": [
    "Для embedding я выбрал модель e5-large-v2, которая лидирует в [MTEB leaderboard](https://modal.com/blog/embedding-models-article). \n",
    "\n",
    "Почему именно она? \n",
    "Эта модель компактна, быстрая в inference, и показывает высокую семантическую схожесть - ключ для RAG, где эмбеддинги должны захватывать нюансы языка. Интегрируется напрямую с LangChain. (Это очень важно для нас, так как подключаемся к БД мы с помощью langChain)"
   ]
  },
  {
   "cell_type": "markdown",
   "id": "9a1c9ed6",
   "metadata": {},
   "source": [
    "Наконец, хранение эмбеддингов: \n",
    "Я использую QDrant в комбинации с LangChain, потому что QDrant - это **AI-native vector database**, оптимизированная для семантического поиска. Интеграция с LangChain проста, через QdrantVectorStore."
   ]
  },
  {
   "cell_type": "markdown",
   "id": "d4b0ec1e",
   "metadata": {},
   "source": [
    "Теперь мы перейдём к ретривалу"
   ]
  },
  {
   "cell_type": "markdown",
   "id": "0b0c7717",
   "metadata": {},
   "source": [
    "![Retrieval](data\\image\\rag_scheme_retrival.png)"
   ]
  },
  {
   "cell_type": "markdown",
   "id": "47feb874",
   "metadata": {},
   "source": [
    "Этот модуль - сердце RAG. Отвечает за поиск релевантной информации на основе пользовательского запроса. По сути, он работает как умный поисковик: принимает текст запроса, преобразует его в вектор с помощью той же embedding-модели, и выполняет семантический поиск в базе данных QDrant"
   ]
  },
  {
   "cell_type": "markdown",
   "id": "63d6085d",
   "metadata": {},
   "source": [
    "Код ниже взят из документации [pyTorch v1.0.0](https://docs.pytorch.org/docs/1.0.0/notes/extending.html?highlight=staticmethod%20def%20forward%20ctx%20input%20weight%20bias%20none%20ctx%20save_for_backward%20input%20weight%20bias)"
   ]
  },
  {
   "cell_type": "code",
   "execution_count": 4,
   "id": "71c41197",
   "metadata": {},
   "outputs": [],
   "source": [
    "my_code = \"\"\"\n",
    "import torch\n",
    "from torch.autograd import gradcheck, Function\n",
    "\n",
    "class LinearFunction(Function):\n",
    "\n",
    "    \n",
    "    def forward(ctx, input, weight, bias=None):\n",
    "        ctx.save_for_backward(input, weight, bias)\n",
    "        output = input.mm(weight.t())\n",
    "        if bias is not None:\n",
    "            output += bias.unsqueeze(0).expand_as(output)\n",
    "        return output\n",
    "\n",
    "    \n",
    "    def backward(ctx, grad_output):\n",
    "        input, weight, bias = ctx.saved_tensors\n",
    "        grad_input = grad_weight = grad_bias = None\n",
    "\n",
    "        if ctx.needs_input_grad[0]:\n",
    "            grad_input = grad_output.mm(weight)\n",
    "        if ctx.needs_input_grad[1]:\n",
    "            grad_weight = grad_output.t().mm(input)\n",
    "        if bias is not None and ctx.needs_input_grad[2]:\n",
    "            grad_bias = grad_output.sum(0).squeeze(0)\n",
    "\n",
    "        return grad_input, grad_weight, grad_bias\n",
    "\n",
    "\n",
    "input = (torch.randn(20,20,dtype=torch.double,requires_grad=True), torch.randn(30,20,dtype=torch.double,requires_grad=True))\n",
    "linear = LinearFunction.apply\n",
    "test = gradcheck(linear, input, eps=1e-6, atol=1e-4)\n",
    "print(test)\n",
    "\n",
    "\"\"\"\n",
    "documents = rtr._get_retriever_for_langChain(k=6).invoke(my_code)"
   ]
  },
  {
   "cell_type": "code",
   "execution_count": 5,
   "id": "e927b12e",
   "metadata": {},
   "outputs": [
    {
     "data": {
      "text/plain": [
       "[Document(metadata={'version': 'v1.2.0', 'release_name': 'New TorchScript API with Improved Python Language Coverage, Expanded ONNX Export, NN.Transformer', 'chunk_id': 'v1.2.0-51', '_id': '3dbcc1bb-db5a-46d9-b2a2-253a4aacd2ea', '_collection_name': 'migTorch_test_intfloat_e5-large'}, page_content=\"is now deprecated, please use 'out' parameter with dtype torch.bool instead.\\r\\n\\r\\ntensor([0, 1, 1], dtype=torch.uint8)\\r\\n\\r\\n# instead use torch.bool\\r\\n>>> res = torch.empty_like(a, dtype=torch.bool)\\r\\n>>> torch.gt(a, b, out=res)\\r\\ntensor([False, True, True])\\r\\n```\\r\\n\\r\\n\\r\\n\\r\\n### Legacy `autograd.Function` (Function without static forward method) is now deprecated\\r\\n\\r\\n```\\r\\n>>> class MyLegacyFunction(Function):\\r\\n>>>     def forward(self, x):\\r\\n>>>         return x\\r\\n>>>\\r\\n>>>     def backward(self, grad_output):\\r\\n>>>         return grad_output\\r\\n>>>\\r\\n>>> MyLegacyFunction()(torch.randn((3,), requires_grad=True)\\r\\nUserWarning: Legacy autograd function with non-static forward method is deprecated\\r\\nand will be removed in 1.3. Please use new-style autograd function\\r\\nwith static forward method.\\r\\n\\r\\n# instead use new-style Autograd Function\\r\\n>>> class MyFunction(Function):\\r\\n>>>     @staticmethod\\r\\n>>>     def forward(ctx, x):\\r\\n>>>         return x\\r\\n>>>\\r\\n>>>     @staticmethod\\r\\n>>>     def backward(ctx, grad_output):\\r\\n>>>         return grad_output\\r\\n>>>\\r\\n>>> MyFunction.apply(torch.randn((3,), requires_grad=True)\\r\\n```\\r\\n\\r\\nSee the [torch.autograd.Function](https://pytorch.org/docs/stable/autograd.html#torch.autograd.Function) documentation for more details.\\r\\n\\r\\n### `torch.gels`: has been renamed to `torch.lstsq`; `torch.gels` will work for this release but is now deprecated.  ([23460](https://github.com/pytorch/pytorch/pull/23460))\\r\\n\\r\\n## Performance\"),\n",
       " Document(metadata={'version': 'v1.8.0', 'release_name': 'PyTorch 1.8 Release, including Compiler and Distributed Training updates, New Mobile Tutorials and more', 'chunk_id': 'v1.8.0-13', '_id': '1e0afe91-04ca-4227-ab10-3fc0dbf3bec7', '_collection_name': 'migTorch_test_intfloat_e5-large'}, page_content='An example of this discrepancy is shown in the example below where a Linear layer takes as input a single Tensor of size 5 and returns a single Tensor of size 5 but old style hook would return two gradients with respect to the input for only one input.\\r\\n\\r\\n1.7.1:\\r\\n\\r\\n```python\\r\\nimport torch\\r\\nfrom torch import nn\\r\\n\\r\\nmod = nn.Linear(5, 5)\\r\\ndef hook(mod, grad_inp, grad_out):\\r\\n    print(f\"grad input size: \" + \" \".join(str(g.size()) for g in grad_inp))\\r\\n    print(f\"grad output size: \" + \" \".join(str(g.size()) for g in grad_out))\\r\\nmod.register_backward_hook(hook)\\r\\n\\r\\nmod(torch.rand(5, requires_grad=True)).sum().backward()\\r\\n>>> `grad input size: torch.Size([5]) torch.Size([5]) # One too many\\r\\n>>> grad output size: torch.Size([5])`\\r\\n```\\r\\n\\r\\n1.8.0:\\r\\nOld style hooks are deprecated and will warn when providing wrong result.\\r\\n\\r\\n```python\\r\\nimport torch\\r\\nfrom torch import nn\\r\\n\\r\\nmod = nn.Linear(5, 5)\\r\\ndef hook(mod, grad_inp, grad_out):\\r\\n    print(f\"grad input size: \" + \" \".join(str(g.size()) for g in grad_inp))\\r\\n    print(f\"grad output size: \" + \" \".join(str(g.size()) for g in grad_out))\\r\\nmod.register_backward_hook(hook)\\r\\n\\r\\nmod(torch.rand(5, requires_grad=True)).sum().backward()\\r\\n>>> grad input size: torch.Size([5]) torch.Size([5]) # One too many\\r\\n>>> grad output size: torch.Size([5])\\r\\n>>> `UserWarning: Using a non-full backward hook when the forward contains multiple\\r\\nautograd Nodes is deprecated and will be removed in future versions. This hook\\r\\nwill be missing some grad_input.`\\r\\n```'),\n",
       " Document(metadata={'version': 'v1.13.0', 'release_name': 'PyTorch 1.13: beta versions of functorch and improved support for Apple’s new M1 chips are now available', 'chunk_id': 'v1.13.0-6', '_id': 'f45870ba-d440-4f53-a573-ee3c4cca3f23', '_collection_name': 'migTorch_test_intfloat_e5-large'}, page_content='Setting the  `.data` of a tensor that `requires_grad` with an integer tensor now raises an error.\\r\\n\\r\\n1.12.1\\r\\n\\r\\n```python\\r\\n>>> x = torch.randn(2, requires_grad=True)\\r\\n>>> x.data = torch.randint(1, (2,))\\r\\n>>> x\\r\\ntensor([0, 0], requires_grad=True)\\r\\n```\\r\\n\\r\\n1.13\\r\\n\\r\\n```python\\r\\n>>> x = torch.randn(2, requires_grad=True)\\r\\n>>> x.data = torch.randint(1, (2,))\\r\\nTraceback (most recent call last):\\r\\n  File \"<stdin>\", line 1, in <module>\\r\\nRuntimeError: data set to a tensor that requires gradients must be floating point or complex dtype\\r\\n```\\r\\n\\r\\n### Added variable_list support to ExtractVariables struct (#84583)\\r\\n\\r\\nPrior to this change, C++ custom autograd Function considers tensors passed in TensorList to not be tensors for the purposes of recording the backward graph. After this change, custom Functions that receive TensorList must modify their backward functions to also compute gradients for these additional tensor inputs. Note that this behavior now differs from that of custom autograd Functions in Python.\\r\\n\\r\\n1.12.1\\r\\n\\r\\n```cpp\\r\\nstruct MyFunction : public Function<MyFunction> {\\r\\n    static Variable forward(AutogradContext* ctx, at::Tensor t, at::TensorList tensors) {\\r\\n      return 2 * tensors[0] + 3 * t;\\r\\n    }\\r\\n\\r\\n    static variable_list backward(\\r\\n        AutogradContext* ctx,\\r\\n        variable_list grad_output) {\\r\\n      return {3 * grad_output[0]};\\r\\n    }\\r\\n};\\r\\n```\\r\\n\\r\\n1.13\\r\\n\\r\\n```cpp\\r\\nstruct MyFunction : public Function<MyFunction> {\\r\\n    static Variable forward(AutogradContext* ctx, at::Tensor t, at::TensorList tensors) {\\r\\n      return 2 * tensors[0] + 3 * t;\\r\\n    }\\r\\n\\r\\n    static variable_list backward(\\r\\n        AutogradContext* ctx,\\r\\n        variable_list grad_output) {\\r\\n      return {3 * grad_output[0], 2 * grad_output[0]};\\r\\n    }\\r\\n};\\r\\n```'),\n",
       " Document(metadata={'version': 'v1.7.0', 'release_name': 'PyTorch 1.7 released w/ CUDA 11, New APIs for FFTs, Windows support for Distributed training and more', 'chunk_id': 'v1.7.0-18', '_id': 'e2ff536c-4fa0-4e40-998c-ab56c7f877d9', '_collection_name': 'migTorch_test_intfloat_e5-large'}, page_content='>>> bceloss(a, b)\\r\\nValueError: Using a target size (torch.Size([25, 1]))\\r\\nthat is different to the input size (torch.Size([25]))\\r\\nis deprecated. Please ensure they have the same size.\\r\\n>>> b = b.reshape(25)\\r\\n>>> bceloss(a, b)\\r\\ntensor(1.0604)\\r\\n      </pre></sub></td>\\r\\n    </tr>\\r\\n  </table>\\r\\n</p>\\r\\n\\r\\n### Custom `autograd.Function` stop materializing `None` output Tensors ([#41490](https://github.com/pytorch/pytorch/pull/41490))\\r\\n\\r\\nTo improve performance, the custom `autograd.Function` will not create a Tensor full of zeros when an input is differentiable but the user’s `backward` function returns `None` for it. This means that code for which the `.backward()` or `autograd.grad()` final result will now be `None` while it used to be a Tensor full of zeros.\\r\\nYou can recover the previous behavior by having your custom `autograd.Function` materialize the zero Tensor with `torch.zeros_like(input)` to replace the `None` output for the `backward` method.\\r\\n\\r\\n```python\\r\\nimport torch\\r\\n\\r\\n# Custom Function that returns None for the gradient\\r\\nclass GetTwos(torch.autograd.Function):\\r\\n    @staticmethod\\r\\n    def forward(ctx, inp):\\r\\n        return inp.clone().fill_(2)\\r\\n\\r\\n    @staticmethod\\r\\n    def backward(ctx, grad_out):\\r\\n        # To recover the 1.6 behavior, replace the line below with `return torch.zeros_like(grad_out)`\\r\\n        return None\\r\\n\\r\\na = torch.rand(10, requires_grad=True)\\r\\nb = GetTwos.apply(a)\\r\\nb.sum().backward()\\r\\n\\r\\nprint(a.grad)\\r\\n# In PyTorch 1.6 this will print\\r\\n# tensor([0., 0., 0., 0., 0., 0., 0., 0., 0., 0.])\\r\\n# In PyTorch 1.7 this will print')]"
      ]
     },
     "execution_count": 5,
     "metadata": {},
     "output_type": "execute_result"
    }
   ],
   "source": [
    "documents"
   ]
  },
  {
   "cell_type": "markdown",
   "id": "71f2d33f",
   "metadata": {},
   "source": [
    "Что выдал нам retrival?\n",
    "\n",
    "* v 1.2.0 - говорится, что стоит использовать ```@staticmethod``` перед методами нашей кастомной автоградиентной функцией.\n",
    "\n",
    "* v 1.5.0 - затрагивается ```output = input.mm(weight.t())``` из ```LinearFunction.forward()```  говорится, что лучше клонировать наш вход и работать с клонами. В нашем случае мы именно так и делаем.\n",
    "\n",
    "* v 1.7.0 - изменение поведения градиента ctx.needs_input_grad выводил None, теперь выводит zero.\n",
    "\n",
    "* v 1.13.0 - информация о низкоуровневых изменениях вычисления градиента\n",
    "\n"
   ]
  },
  {
   "cell_type": "markdown",
   "id": "35e52ef2",
   "metadata": {},
   "source": [
    "Конеченый этап"
   ]
  },
  {
   "cell_type": "markdown",
   "id": "7799fc47",
   "metadata": {},
   "source": [
    "![Retrieval](data\\image\\rag_scheme_response.png)"
   ]
  },
  {
   "cell_type": "markdown",
   "id": "154c3a58",
   "metadata": {},
   "source": [
    "Тут остаётся самое лёгкое, формируется запрос путём подставления изначально запроса и релевантного контекста, о котором нам говорит наш ретривал."
   ]
  },
  {
   "cell_type": "markdown",
   "id": "7ec8fe33",
   "metadata": {},
   "source": [
    "Вот так выглядит наш промт"
   ]
  },
  {
   "cell_type": "code",
   "execution_count": null,
   "id": "ab07186c",
   "metadata": {},
   "outputs": [],
   "source": [
    "\"\"\"\n",
    "You are a senior PyTorch engineer helping migrate code from v1.0 to v2.7.\n",
    "\n",
    "### Original code (v1.0)\n",
    "```python\n",
    "{old_code}\n",
    "```\n",
    "\n",
    "### Context (docs & changelog)\n",
    "{context}\n",
    "\n",
    "### Task\n",
    "Rewrite the code so it runs on **PyTorch 2.7**. Explain what you changed.\n",
    "\n",
    "### Answer format\n",
    "First, provide the updated code in the following format:\n",
    "```python\n",
    "import torch\n",
    "# updated code here\n",
    "```\n",
    "Then, after the code block, provide a detailed explanation as a single continuous paragraph of text describing the changes you made and the reasons for each change.\n",
    "\n",
    "\"\"\""
   ]
  },
  {
   "cell_type": "markdown",
   "id": "244f2ea6",
   "metadata": {},
   "source": [
    "## Практика и метрики"
   ]
  },
  {
   "cell_type": "markdown",
   "id": "4aa66708",
   "metadata": {},
   "source": [
    "### Метрики"
   ]
  },
  {
   "cell_type": "markdown",
   "id": "f459afa2",
   "metadata": {},
   "source": [
    "Метрики при наличии 21 теста с вариантами, когда есть рабочий и не рабочий код."
   ]
  },
  {
   "cell_type": "code",
   "execution_count": 1,
   "id": "bc1e9184",
   "metadata": {},
   "outputs": [],
   "source": [
    "import pandas as pd\n",
    "import glob"
   ]
  },
  {
   "cell_type": "code",
   "execution_count": null,
   "id": "3830091d",
   "metadata": {},
   "outputs": [
    {
     "data": {
      "text/html": [
       "<div>\n",
       "<style scoped>\n",
       "    .dataframe tbody tr th:only-of-type {\n",
       "        vertical-align: middle;\n",
       "    }\n",
       "\n",
       "    .dataframe tbody tr th {\n",
       "        vertical-align: top;\n",
       "    }\n",
       "\n",
       "    .dataframe thead th {\n",
       "        text-align: right;\n",
       "    }\n",
       "</style>\n",
       "<table border=\"1\" class=\"dataframe\">\n",
       "  <thead>\n",
       "    <tr style=\"text-align: right;\">\n",
       "      <th></th>\n",
       "      <th>Is work in 1.0.0</th>\n",
       "      <th>Is work in 1.0.0 (%)</th>\n",
       "      <th>Is work in 2.7.0</th>\n",
       "      <th>Is work in 2.7.0 (%)</th>\n",
       "      <th>Is work in 2.7.0 (RAG)</th>\n",
       "      <th>Is work in 2.7.0 (RAG) (%)</th>\n",
       "    </tr>\n",
       "  </thead>\n",
       "  <tbody>\n",
       "    <tr>\n",
       "      <th>BAAI_bge-base-en.csv</th>\n",
       "      <td>10</td>\n",
       "      <td>52.631579</td>\n",
       "      <td>6</td>\n",
       "      <td>31.578947</td>\n",
       "      <td>14</td>\n",
       "      <td>73.684211</td>\n",
       "    </tr>\n",
       "    <tr>\n",
       "      <th>BAAI_bge-large-en.csv</th>\n",
       "      <td>10</td>\n",
       "      <td>52.631579</td>\n",
       "      <td>6</td>\n",
       "      <td>31.578947</td>\n",
       "      <td>15</td>\n",
       "      <td>78.947368</td>\n",
       "    </tr>\n",
       "    <tr>\n",
       "      <th>intfloat_e5-large.csv</th>\n",
       "      <td>10</td>\n",
       "      <td>52.631579</td>\n",
       "      <td>6</td>\n",
       "      <td>31.578947</td>\n",
       "      <td>16</td>\n",
       "      <td>84.210526</td>\n",
       "    </tr>\n",
       "    <tr>\n",
       "      <th>sentence-transformers_all-MiniLM-L6-v2.csv</th>\n",
       "      <td>10</td>\n",
       "      <td>52.631579</td>\n",
       "      <td>6</td>\n",
       "      <td>31.578947</td>\n",
       "      <td>17</td>\n",
       "      <td>89.473684</td>\n",
       "    </tr>\n",
       "    <tr>\n",
       "      <th>sentence-transformers_LaBSE.csv</th>\n",
       "      <td>10</td>\n",
       "      <td>52.631579</td>\n",
       "      <td>6</td>\n",
       "      <td>31.578947</td>\n",
       "      <td>16</td>\n",
       "      <td>84.210526</td>\n",
       "    </tr>\n",
       "  </tbody>\n",
       "</table>\n",
       "</div>"
      ],
      "text/plain": [
       "                                            Is work in 1.0.0  \\\n",
       "BAAI_bge-base-en.csv                                      10   \n",
       "BAAI_bge-large-en.csv                                     10   \n",
       "intfloat_e5-large.csv                                     10   \n",
       "sentence-transformers_all-MiniLM-L6-v2.csv                10   \n",
       "sentence-transformers_LaBSE.csv                           10   \n",
       "\n",
       "                                            Is work in 1.0.0 (%)  \\\n",
       "BAAI_bge-base-en.csv                                   52.631579   \n",
       "BAAI_bge-large-en.csv                                  52.631579   \n",
       "intfloat_e5-large.csv                                  52.631579   \n",
       "sentence-transformers_all-MiniLM-L6-v2.csv             52.631579   \n",
       "sentence-transformers_LaBSE.csv                        52.631579   \n",
       "\n",
       "                                            Is work in 2.7.0  \\\n",
       "BAAI_bge-base-en.csv                                       6   \n",
       "BAAI_bge-large-en.csv                                      6   \n",
       "intfloat_e5-large.csv                                      6   \n",
       "sentence-transformers_all-MiniLM-L6-v2.csv                 6   \n",
       "sentence-transformers_LaBSE.csv                            6   \n",
       "\n",
       "                                            Is work in 2.7.0 (%)  \\\n",
       "BAAI_bge-base-en.csv                                   31.578947   \n",
       "BAAI_bge-large-en.csv                                  31.578947   \n",
       "intfloat_e5-large.csv                                  31.578947   \n",
       "sentence-transformers_all-MiniLM-L6-v2.csv             31.578947   \n",
       "sentence-transformers_LaBSE.csv                        31.578947   \n",
       "\n",
       "                                            Is work in 2.7.0 (RAG)  \\\n",
       "BAAI_bge-base-en.csv                                            14   \n",
       "BAAI_bge-large-en.csv                                           15   \n",
       "intfloat_e5-large.csv                                           16   \n",
       "sentence-transformers_all-MiniLM-L6-v2.csv                      17   \n",
       "sentence-transformers_LaBSE.csv                                 16   \n",
       "\n",
       "                                            Is work in 2.7.0 (RAG) (%)  \n",
       "BAAI_bge-base-en.csv                                         73.684211  \n",
       "BAAI_bge-large-en.csv                                        78.947368  \n",
       "intfloat_e5-large.csv                                        84.210526  \n",
       "sentence-transformers_all-MiniLM-L6-v2.csv                   89.473684  \n",
       "sentence-transformers_LaBSE.csv                              84.210526  "
      ]
     },
     "execution_count": 2,
     "metadata": {},
     "output_type": "execute_result"
    }
   ],
   "source": [
    "\n",
    "def analyz_test():\n",
    "    csv_files = glob.glob(\"*.csv\", root_dir=\"data/\")\n",
    "\n",
    "    results = []\n",
    "\n",
    "    for csv_file in csv_files:\n",
    "        dfTest = pd.read_csv(\"data/\"+csv_file)\n",
    "        сount_test = len(dfTest)\n",
    "\n",
    "        count_works_1_0 = dfTest['Is work in 1.0.0'].sum()\n",
    "        count_works_2_7 = dfTest['Is work in 2.7.0'].sum()\n",
    "        count_rag_2_7 = dfTest['Is work in 2.7.0 (после RAG)'].sum()\n",
    "\n",
    "        pct_works_1_0 = (count_works_1_0 / сount_test) * 100\n",
    "        pct_works_2_7 = (count_works_2_7 / сount_test) * 100\n",
    "        pct_rag_2_7 = (count_rag_2_7 / сount_test) * 100\n",
    "\n",
    "        result_dict = {\n",
    "            \"Is work in 1.0.0\": count_works_1_0,\n",
    "            \"Is work in 1.0.0 (%)\": pct_works_1_0,\n",
    "            \"Is work in 2.7.0\": count_works_2_7,\n",
    "            \"Is work in 2.7.0 (%)\": pct_works_2_7,\n",
    "            \"Is work in 2.7.0 (RAG)\": count_rag_2_7,\n",
    "            \"Is work in 2.7.0 (RAG) (%)\": pct_rag_2_7,\n",
    "        }\n",
    "\n",
    "        results.append(result_dict)\n",
    "    \n",
    "    return pd.DataFrame(results, index=csv_files)\n",
    "\n",
    "analyz_test()"
   ]
  },
  {
   "attachments": {
    "image.png": {
     "image/png": "[encoded data removed]"
    }
   },
   "cell_type": "markdown",
   "id": "2ddc883b",
   "metadata": {},
   "source": [
    "![метрики](attachment:image.png)"
   ]
  },
  {
   "cell_type": "markdown",
   "id": "67ed01b7",
   "metadata": {},
   "source": [
    "Метрика при наличии 9 тестов, которые работают в v1.0.0"
   ]
  },
  {
   "cell_type": "code",
   "execution_count": 1,
   "id": "125a29aa",
   "metadata": {},
   "outputs": [
    {
     "data": {
      "text/html": [
       "<div>\n",
       "<style scoped>\n",
       "    .dataframe tbody tr th:only-of-type {\n",
       "        vertical-align: middle;\n",
       "    }\n",
       "\n",
       "    .dataframe tbody tr th {\n",
       "        vertical-align: top;\n",
       "    }\n",
       "\n",
       "    .dataframe thead th {\n",
       "        text-align: right;\n",
       "    }\n",
       "</style>\n",
       "<table border=\"1\" class=\"dataframe\">\n",
       "  <thead>\n",
       "    <tr style=\"text-align: right;\">\n",
       "      <th></th>\n",
       "      <th>Is work in 1.0.0</th>\n",
       "      <th>Is work in 1.0.0 (%)</th>\n",
       "      <th>Is work in 2.7.0</th>\n",
       "      <th>Is work in 2.7.0 (%)</th>\n",
       "      <th>Is work in 2.7.0 (RAG)</th>\n",
       "      <th>Is work in 2.7.0 (RAG) (%)</th>\n",
       "    </tr>\n",
       "  </thead>\n",
       "  <tbody>\n",
       "    <tr>\n",
       "      <th>BAAI_bge-base-en.csv</th>\n",
       "      <td>9</td>\n",
       "      <td>100.0</td>\n",
       "      <td>1</td>\n",
       "      <td>11.111111</td>\n",
       "      <td>8</td>\n",
       "      <td>88.888889</td>\n",
       "    </tr>\n",
       "    <tr>\n",
       "      <th>BAAI_bge-large-en.csv</th>\n",
       "      <td>9</td>\n",
       "      <td>100.0</td>\n",
       "      <td>1</td>\n",
       "      <td>11.111111</td>\n",
       "      <td>8</td>\n",
       "      <td>88.888889</td>\n",
       "    </tr>\n",
       "    <tr>\n",
       "      <th>intfloat_e5-large.csv</th>\n",
       "      <td>9</td>\n",
       "      <td>100.0</td>\n",
       "      <td>1</td>\n",
       "      <td>11.111111</td>\n",
       "      <td>7</td>\n",
       "      <td>77.777778</td>\n",
       "    </tr>\n",
       "    <tr>\n",
       "      <th>sentence-transformers_all-MiniLM-L6-v2.csv</th>\n",
       "      <td>9</td>\n",
       "      <td>100.0</td>\n",
       "      <td>1</td>\n",
       "      <td>11.111111</td>\n",
       "      <td>8</td>\n",
       "      <td>88.888889</td>\n",
       "    </tr>\n",
       "    <tr>\n",
       "      <th>sentence-transformers_LaBSE.csv</th>\n",
       "      <td>9</td>\n",
       "      <td>100.0</td>\n",
       "      <td>1</td>\n",
       "      <td>11.111111</td>\n",
       "      <td>8</td>\n",
       "      <td>88.888889</td>\n",
       "    </tr>\n",
       "  </tbody>\n",
       "</table>\n",
       "</div>"
      ],
      "text/plain": [
       "                                            Is work in 1.0.0  \\\n",
       "BAAI_bge-base-en.csv                                       9   \n",
       "BAAI_bge-large-en.csv                                      9   \n",
       "intfloat_e5-large.csv                                      9   \n",
       "sentence-transformers_all-MiniLM-L6-v2.csv                 9   \n",
       "sentence-transformers_LaBSE.csv                            9   \n",
       "\n",
       "                                            Is work in 1.0.0 (%)  \\\n",
       "BAAI_bge-base-en.csv                                       100.0   \n",
       "BAAI_bge-large-en.csv                                      100.0   \n",
       "intfloat_e5-large.csv                                      100.0   \n",
       "sentence-transformers_all-MiniLM-L6-v2.csv                 100.0   \n",
       "sentence-transformers_LaBSE.csv                            100.0   \n",
       "\n",
       "                                            Is work in 2.7.0  \\\n",
       "BAAI_bge-base-en.csv                                       1   \n",
       "BAAI_bge-large-en.csv                                      1   \n",
       "intfloat_e5-large.csv                                      1   \n",
       "sentence-transformers_all-MiniLM-L6-v2.csv                 1   \n",
       "sentence-transformers_LaBSE.csv                            1   \n",
       "\n",
       "                                            Is work in 2.7.0 (%)  \\\n",
       "BAAI_bge-base-en.csv                                   11.111111   \n",
       "BAAI_bge-large-en.csv                                  11.111111   \n",
       "intfloat_e5-large.csv                                  11.111111   \n",
       "sentence-transformers_all-MiniLM-L6-v2.csv             11.111111   \n",
       "sentence-transformers_LaBSE.csv                        11.111111   \n",
       "\n",
       "                                            Is work in 2.7.0 (RAG)  \\\n",
       "BAAI_bge-base-en.csv                                             8   \n",
       "BAAI_bge-large-en.csv                                            8   \n",
       "intfloat_e5-large.csv                                            7   \n",
       "sentence-transformers_all-MiniLM-L6-v2.csv                       8   \n",
       "sentence-transformers_LaBSE.csv                                  8   \n",
       "\n",
       "                                            Is work in 2.7.0 (RAG) (%)  \n",
       "BAAI_bge-base-en.csv                                         88.888889  \n",
       "BAAI_bge-large-en.csv                                        88.888889  \n",
       "intfloat_e5-large.csv                                        77.777778  \n",
       "sentence-transformers_all-MiniLM-L6-v2.csv                   88.888889  \n",
       "sentence-transformers_LaBSE.csv                              88.888889  "
      ]
     },
     "execution_count": 1,
     "metadata": {},
     "output_type": "execute_result"
    }
   ],
   "source": [
    "import pandas as pd\n",
    "import glob\n",
    "\n",
    "def analyz_test():\n",
    "    csv_files = glob.glob(\"*.csv\", root_dir=\"data/\")\n",
    "\n",
    "    results = []\n",
    "\n",
    "    for csv_file in csv_files:\n",
    "        dfTest = pd.read_csv(\"data/\"+csv_file)\n",
    "        сount_test = len(dfTest)\n",
    "\n",
    "        count_works_1_0 = dfTest['Is work in 1.0.0'].sum()\n",
    "        count_works_2_7 = dfTest['Is work in 2.7.0'].sum()\n",
    "        count_rag_2_7 = dfTest['Is work in 2.7.0 (после RAG)'].sum()\n",
    "\n",
    "        pct_works_1_0 = (count_works_1_0 / сount_test) * 100\n",
    "        pct_works_2_7 = (count_works_2_7 / сount_test) * 100\n",
    "        pct_rag_2_7 = (count_rag_2_7 / сount_test) * 100\n",
    "\n",
    "        result_dict = {\n",
    "            \"Is work in 1.0.0\": count_works_1_0,\n",
    "            \"Is work in 1.0.0 (%)\": pct_works_1_0,\n",
    "            \"Is work in 2.7.0\": count_works_2_7,\n",
    "            \"Is work in 2.7.0 (%)\": pct_works_2_7,\n",
    "            \"Is work in 2.7.0 (RAG)\": count_rag_2_7,\n",
    "            \"Is work in 2.7.0 (RAG) (%)\": pct_rag_2_7,\n",
    "        }\n",
    "\n",
    "        results.append(result_dict)\n",
    "    \n",
    "    return pd.DataFrame(results, index=csv_files)\n",
    "\n",
    "analyz_test()"
   ]
  }
 ],
 "metadata": {
  "kernelspec": {
   "display_name": "migratetorch_rag",
   "language": "python",
   "name": "python3"
  },
  "language_info": {
   "codemirror_mode": {
    "name": "ipython",
    "version": 3
   },
   "file_extension": ".py",
   "mimetype": "text/x-python",
   "name": "python",
   "nbconvert_exporter": "python",
   "pygments_lexer": "ipython3",
   "version": "3.12.3"
  }
 },
 "nbformat": 4,
 "nbformat_minor": 5
}
